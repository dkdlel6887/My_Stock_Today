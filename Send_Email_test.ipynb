{
 "cells": [
  {
   "cell_type": "code",
   "execution_count": 5,
   "id": "f475ece7",
   "metadata": {},
   "outputs": [],
   "source": [
    "# user에게 Email보내기\n",
    "# SMTP 사용\n",
    "# 1 명에게 보내기\n",
    "# 구글 보안설정을 낮게해야 메일 자동발송을 할 수 있음 > 보안 위험 존재\n",
    "# 보안수준이 낮은 앱의 액세스 허용"
   ]
  },
  {
   "cell_type": "code",
   "execution_count": 2,
   "id": "4b7d80bf",
   "metadata": {},
   "outputs": [],
   "source": [
    "import smtplib, os\n",
    "from email import encoders\n",
    "from email.mime.text import MIMEText\n",
    "from email.mime.multipart import MIMEMultipart\n",
    "from email.mime.base import MIMEBase"
   ]
  },
  {
   "cell_type": "code",
   "execution_count": 4,
   "id": "657342e5",
   "metadata": {},
   "outputs": [],
   "source": [
    "# 발송 이메일\n",
    "fromaddress = 'dkdlel4990@gmail.com'  # 임시로 본인 이메일 사용\n",
    "pw = '비밀번호 입력'\n",
    "\n",
    "# 수신 이메일\n",
    "toaddress = 'user1@gmail.com'  # 사용자\n",
    "\n",
    "'''\n",
    "사용자 별로 발송할 메일 내용이 다르기 때문에 일괄적으로 보내기는 어렵다\n",
    "메일 내용: [어피티 메일 참조]\n",
    "   사용자 님 금일 주식 거래 간 참고할 내용입니다.\n",
    "       * 보유종목(표 삽입) 정보\n",
    "       종목명 / 전일종가 / 기사분석 결과\n",
    "       ㅇㅇㅇ / 32000    / 부정적\n",
    "       종목명 / 기사 링크\n",
    "       ㅇㅇㅇ / http://www.abc.com\n",
    "              / http://www.def.com\n",
    "              / ...\n",
    "반복문 통해 사용자 별 user_info 가져옴(주식종목관련 + 이메일) \n",
    "> 메일내용으로 기입할 부분 추출하여 양식에 맞게 작성\n",
    "> 해당 사용자 이메일 주소 toaddress에 넣고 메일 발송\n",
    "\n",
    "위 과정 전체를 반복하여 모든 사용자에게 메일 발송 >>> 시간 too much...\n",
    "'''\n",
    "# 이메일 제목\n",
    "msg = MIMEMultipart()\n",
    "msg['Subject']='[My Stock Today] 23년 2월 7일 주식 거래간 참고해주세요.'\n",
    "\n",
    "#이메일 내용 입력\n",
    "text = MIMEText('user님 금일 주식 거래 간 참고할 내용입니다.(이하 생략0)')\n",
    "\n",
    "#이메일 제목과 내용 합치기\n",
    "msg.attach(text)"
   ]
  },
  {
   "cell_type": "code",
   "execution_count": null,
   "id": "4f6d934d",
   "metadata": {},
   "outputs": [],
   "source": [
    "s = smtplib.SMTP('smtp.gmail.com', 587)  # 구글 smtp서버 포트번호\n",
    "s.starttls()  # tls방식으로 smtp서버 접속\n",
    "s.login(fromadderss, pw) # fromaddress 로그인\n",
    "\n",
    "# 파일 첨부\n",
    "files = r'C:\\ 관련 엑셀파일 첨부'\n",
    "files = files.encode('utf-8, cp595 ,... 필요한 encode 찾기')\n",
    "\n",
    "part = MIMEBase(\"application\", \"octet-stream\")\n",
    "part.set_payload(open(files, 'rb').read())\n",
    "encoders.encode_base64(part)  # base64 encoding은 영상, 이미지 파일을 문자열 형태로 변환\n",
    "\n",
    "msg['To'] = toaddress\n",
    "s.sendmail(fromaddress, toaddress, msg.as_string())\n",
    "s.quit()"
   ]
  }
 ],
 "metadata": {
  "kernelspec": {
   "display_name": "Python 3 (ipykernel)",
   "language": "python",
   "name": "python3"
  },
  "language_info": {
   "codemirror_mode": {
    "name": "ipython",
    "version": 3
   },
   "file_extension": ".py",
   "mimetype": "text/x-python",
   "name": "python",
   "nbconvert_exporter": "python",
   "pygments_lexer": "ipython3",
   "version": "3.9.12"
  }
 },
 "nbformat": 4,
 "nbformat_minor": 5
}
